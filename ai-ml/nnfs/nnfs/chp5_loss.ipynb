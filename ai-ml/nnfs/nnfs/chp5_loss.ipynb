{
 "cells": [
  {
   "cell_type": "markdown",
   "id": "multiple-transmission",
   "metadata": {},
   "source": [
    "## Loss\n",
    "\n",
    "To train a model we tweak the weights and biases to improve the models accuracy. To do this we calculate how much loss there is using a **loss** or **cost** function. This quantifies how wrong the model is. Since loss is the models error, we want this to be as close to 0 as possible."
   ]
  },
  {
   "attachments": {
    "34f8aae9-b6cc-41e6-9247-781fb6278a5c.png": {
     "image/png": "[encoded data removed]"
    },
    "a1873fb7-1332-453f-9207-858858c898ed.png": {
     "image/png": "[encoded data removed]"
    }
   },
   "cell_type": "markdown",
   "id": "intellectual-dance",
   "metadata": {},
   "source": [
    "## Categorical Cross-Entropy Loss\n",
    "\n",
    "Neural networks that do regression use the **mean squared error** loss function.\n",
    "\n",
    "Neural networks that do classifying use the **categorical cross-entropy** loss function. It is explicitly used to compare ground truth probability distribution (y) and some predicted distribution (y-hat).\n",
    "\n",
    "![image.png](attachment:a1873fb7-1332-453f-9207-858858c898ed.png)\n",
    "\n",
    "Where:\n",
    "- $L_i$: sample loss value\n",
    "- *i*: the ith sample in the set\n",
    "- *j*: the label/output index\n",
    "- *y*: the target values\n",
    "- $\\hat{y}$: the predicted values\n",
    "\n",
    "This can be simplified to:\n",
    "\n",
    "![image.png](attachment:34f8aae9-b6cc-41e6-9247-781fb6278a5c.png)\n"
   ]
  },
  {
   "cell_type": "code",
   "execution_count": 10,
   "id": "working-going",
   "metadata": {},
   "outputs": [
    {
     "name": "stdout",
     "output_type": "stream",
     "text": [
      "0.35667494393873245\n"
     ]
    }
   ],
   "source": [
    "import math\n",
    "\n",
    "softmax_output = [0.7, 0.1, 0.2]\n",
    "\n",
    "# arrays like this are called one-hot: one value is on, the rest off\n",
    "# we use [1, 0, 0] because the expected probablity for the correct value is 1\n",
    "target_output = [1, 0, 0]\n",
    "\n",
    "loss = -(math.log(softmax_output[0]) * target_output[0] +\n",
    "         math.log(softmax_output[1]) * target_output[1] +\n",
    "         math.log(softmax_output[2]) * target_output[2])\n",
    "print(loss)"
   ]
  },
  {
   "cell_type": "code",
   "execution_count": 11,
   "id": "yellow-operator",
   "metadata": {},
   "outputs": [
    {
     "name": "stdout",
     "output_type": "stream",
     "text": [
      "0.35667494393873245\n"
     ]
    }
   ],
   "source": [
    "# we can make some assumptions because of the one-hot nature of the target_output\n",
    "loss = -math.log(softmax_output[0])\n",
    "print(loss)"
   ]
  },
  {
   "cell_type": "code",
   "execution_count": 12,
   "id": "documented-virus",
   "metadata": {},
   "outputs": [
    {
     "name": "stdout",
     "output_type": "stream",
     "text": [
      "-0.0\n",
      "0.2231435513142097\n",
      "0.5108256237659907\n",
      "0.916290731874155\n",
      "1.6094379124341003\n",
      "4.605170185988091\n"
     ]
    }
   ],
   "source": [
    "# as the confidence value decreases, the loss value increases\n",
    "print(-math.log(1))\n",
    "print(-math.log(0.8))\n",
    "print(-math.log(0.6))\n",
    "print(-math.log(0.4))\n",
    "print(-math.log(0.2))\n",
    "print(-math.log(0.01))"
   ]
  },
  {
   "cell_type": "markdown",
   "id": "behind-archive",
   "metadata": {},
   "source": [
    "### logs\n",
    "\n",
    "**logarithm** is defined as the solution for the x-term in an equation of the form $a^x = b$. When the base of a logarithm is $e$ then it is called a **natural log** ($log(x) = log_e(x) = ln(x)$)\n",
    "\n",
    "$log(0)$ is undefined; there is no x that satifies $e^x = 0$ since e to the power of anything is always a positive number"
   ]
  },
  {
   "cell_type": "markdown",
   "id": "consistent-trinidad",
   "metadata": {},
   "source": [
    "### Batching loss"
   ]
  },
  {
   "cell_type": "code",
   "execution_count": 13,
   "id": "oriental-marathon",
   "metadata": {},
   "outputs": [
    {
     "name": "stdout",
     "output_type": "stream",
     "text": [
      "0.7\n",
      "0.5\n",
      "0.9\n"
     ]
    }
   ],
   "source": [
    "# lets say we are trying to classify something as dog (idx 0), cat (idx 1), or human (idx 2)\n",
    "softmax_outputs = [\n",
    "    [0.7, 0.1, 0.2],\n",
    "    [0.1, 0.5, 0.4],\n",
    "    [0.02, 0.9, 0.08],\n",
    "]\n",
    "\n",
    "# batch is being mapped to dog, cat, cat\n",
    "class_targets = [0, 1, 1]\n",
    "\n",
    "for tgt_idx, dist in zip(class_targets, softmax_outputs):\n",
    "    print(dist[tgt_idx])"
   ]
  },
  {
   "cell_type": "code",
   "execution_count": 14,
   "id": "amino-ocean",
   "metadata": {},
   "outputs": [
    {
     "name": "stdout",
     "output_type": "stream",
     "text": [
      "[0.7 0.5 0.9]\n"
     ]
    }
   ],
   "source": [
    "# simplified with numpy\n",
    "import numpy as np\n",
    "\n",
    "softmax_outputs = np.array([\n",
    "    [0.7, 0.1, 0.2],\n",
    "    [0.1, 0.5, 0.4],\n",
    "    [0.02, 0.9, 0.08],\n",
    "])\n",
    "print(softmax_outputs[[0, 1, 2], class_targets])"
   ]
  },
  {
   "cell_type": "code",
   "execution_count": 15,
   "id": "bulgarian-edition",
   "metadata": {},
   "outputs": [
    {
     "name": "stdout",
     "output_type": "stream",
     "text": [
      "[0.35667494 0.69314718 0.10536052]\n"
     ]
    }
   ],
   "source": [
    "# compute the loss\n",
    "neg_loss = -np.log(softmax_outputs[[0, 1, 2], class_targets])\n",
    "print(neg_loss)"
   ]
  },
  {
   "cell_type": "code",
   "execution_count": 16,
   "id": "streaming-horizon",
   "metadata": {},
   "outputs": [
    {
     "name": "stdout",
     "output_type": "stream",
     "text": [
      "0.38506088005216804\n"
     ]
    }
   ],
   "source": [
    "# compute the average loss on the batch to see how the model is doing during training\n",
    "avg_loss = np.mean(neg_loss)\n",
    "print(avg_loss)"
   ]
  },
  {
   "cell_type": "code",
   "execution_count": 17,
   "id": "productive-breakdown",
   "metadata": {},
   "outputs": [
    {
     "name": "stdout",
     "output_type": "stream",
     "text": [
      "[[0.7 0.  0. ]\n",
      " [0.  0.5 0. ]\n",
      " [0.  0.9 0. ]]\n",
      "0.38506088005216804\n"
     ]
    }
   ],
   "source": [
    "# if targets are a single dimension, they are sparse\n",
    "# if they are 2 dimension, they are one-hot encoded\n",
    "class_targets = np.array([\n",
    "    [1, 0, 0],\n",
    "    [0, 1, 0],\n",
    "    [0, 1, 0],\n",
    "])\n",
    "\n",
    "if len(class_targets.shape) == 1:\n",
    "    correct_confidences = softmax_outputs[range(len(softmax_ouptputs)), class_targets]\n",
    "elif len(class_targets.shape) == 2:\n",
    "    # perform matrix multiplacation to get the correct confidence scores from the outputs\n",
    "    # sum the rows to get the final value\n",
    "    combined = softmax_outputs * class_targets\n",
    "    print(combined)\n",
    "    correct_confidences = np.sum(combined, axis=1)\n",
    "    \n",
    "neg_loss = -np.log(correct_confidences)\n",
    "avg_loss = np.mean(neg_loss)\n",
    "print(avg_loss)"
   ]
  },
  {
   "cell_type": "code",
   "execution_count": 18,
   "id": "demanding-process",
   "metadata": {},
   "outputs": [
    {
     "name": "stdout",
     "output_type": "stream",
     "text": [
      "0.38506088005216804\n"
     ]
    }
   ],
   "source": [
    "from loss import CategoricalCrossEntropy\n",
    "\n",
    "loss_function = CategoricalCrossEntropy()\n",
    "loss = loss_function.calculate(softmax_outputs, class_targets)\n",
    "print(loss)"
   ]
  },
  {
   "cell_type": "markdown",
   "id": "weekly-consideration",
   "metadata": {},
   "source": [
    "## Accuracy\n",
    "\n",
    "**accuracy** is a commonly used metric in practice along with loss and defines how often the largest confidence is the correct class in terms of a fraction."
   ]
  },
  {
   "cell_type": "code",
   "execution_count": 19,
   "id": "smoking-single",
   "metadata": {},
   "outputs": [
    {
     "name": "stdout",
     "output_type": "stream",
     "text": [
      "0.6666666666666666\n"
     ]
    }
   ],
   "source": [
    "softmax_outputs = np.array([\n",
    "    [0.7, 0.1, 0.2],\n",
    "    [0.5, 0.1, 0.4], # this is a wrong predicition\n",
    "    [0.02, 0.9, 0.08],\n",
    "])\n",
    "class_targets = np.array([0, 1, 1])\n",
    "\n",
    "# get the argmax of the outputs (each row)\n",
    "predictions = np.argmax(softmax_outputs, axis=1)\n",
    "\n",
    "# if the targets are one-hot encoded convert them\n",
    "if len(class_targets.shape) == 2:\n",
    "    class_targets = np.argmax(class_targets, axis=1)\n",
    "    \n",
    "# compute the mean of when the predictions are equal to the classes\n",
    "accuracy = np.mean(predictions == class_targets)\n",
    "\n",
    "print(accuracy)"
   ]
  }
 ],
 "metadata": {
  "kernelspec": {
   "display_name": "Python 3",
   "language": "python",
   "name": "python3"
  },
  "language_info": {
   "codemirror_mode": {
    "name": "ipython",
    "version": 3
   },
   "file_extension": ".py",
   "mimetype": "text/x-python",
   "name": "python",
   "nbconvert_exporter": "python",
   "pygments_lexer": "ipython3",
   "version": "3.7.10"
  }
 },
 "nbformat": 4,
 "nbformat_minor": 5
}
